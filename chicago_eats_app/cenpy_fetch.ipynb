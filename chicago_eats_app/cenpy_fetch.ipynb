{
 "cells": [
  {
   "cell_type": "code",
   "execution_count": 1,
   "id": "8e56a1f7",
   "metadata": {},
   "outputs": [],
   "source": [
    "import cenpy\n",
    "import pandas as pd\n",
    "import matplotlib.pyplot as plt\n",
    "import mapclassify.classifiers as classifiers"
   ]
  },
  {
   "cell_type": "code",
   "execution_count": 2,
   "id": "e4a4f517",
   "metadata": {},
   "outputs": [],
   "source": [
    "schemes = {}\n",
    "for classifier in classifiers.CLASSIFIERS:\n",
    "    schemes[classifier.lower()] = getattr(classifiers, classifier)"
   ]
  },
  {
   "cell_type": "code",
   "execution_count": null,
   "id": "4ce9315e",
   "metadata": {
    "scrolled": true
   },
   "outputs": [
    {
     "name": "stderr",
     "output_type": "stream",
     "text": [
      "/home/andrew/anaconda3/envs/eats/lib/python3.10/site-packages/pyproj/crs/crs.py:131: FutureWarning: '+init=<authority>:<code>' syntax is deprecated. '<authority>:<code>' is the preferred initialization method. When making the change, be mindful of axis order changes: https://pyproj4.github.io/pyproj/stable/gotchas.html#axis-order-changes-in-proj-6\n",
      "  in_crs_string = _prepare_from_proj_string(in_crs_string)\n"
     ]
    },
    {
     "name": "stdout",
     "output_type": "stream",
     "text": [
      "Matched: Chicago, IL to Chicago city within layer Incorporated Places\n"
     ]
    },
    {
     "name": "stderr",
     "output_type": "stream",
     "text": [
      "/home/andrew/anaconda3/envs/eats/lib/python3.10/site-packages/pyproj/crs/crs.py:131: FutureWarning: '+init=<authority>:<code>' syntax is deprecated. '<authority>:<code>' is the preferred initialization method. When making the change, be mindful of axis order changes: https://pyproj4.github.io/pyproj/stable/gotchas.html#axis-order-changes-in-proj-6\n",
      "  in_crs_string = _prepare_from_proj_string(in_crs_string)\n",
      "/tmp/ipykernel_527413/734256529.py:4: FutureWarning: The `op` parameter is deprecated and will be removed in a future release. Please use the `predicate` parameter instead.\n",
      "  chi = cenpy.products.ACS(year).from_place('Chicago, IL', variables= ['B01003_001', 'B19013_001E', 'B25077_001E',\n",
      "/home/andrew/anaconda3/envs/eats/lib/python3.10/site-packages/pyproj/crs/crs.py:131: FutureWarning: '+init=<authority>:<code>' syntax is deprecated. '<authority>:<code>' is the preferred initialization method. When making the change, be mindful of axis order changes: https://pyproj4.github.io/pyproj/stable/gotchas.html#axis-order-changes-in-proj-6\n",
      "  in_crs_string = _prepare_from_proj_string(in_crs_string)\n"
     ]
    },
    {
     "name": "stdout",
     "output_type": "stream",
     "text": [
      "Matched: Chicago, IL to Chicago city within layer Incorporated Places\n"
     ]
    },
    {
     "name": "stderr",
     "output_type": "stream",
     "text": [
      "/home/andrew/anaconda3/envs/eats/lib/python3.10/site-packages/pyproj/crs/crs.py:131: FutureWarning: '+init=<authority>:<code>' syntax is deprecated. '<authority>:<code>' is the preferred initialization method. When making the change, be mindful of axis order changes: https://pyproj4.github.io/pyproj/stable/gotchas.html#axis-order-changes-in-proj-6\n",
      "  in_crs_string = _prepare_from_proj_string(in_crs_string)\n",
      "/tmp/ipykernel_527413/734256529.py:4: FutureWarning: The `op` parameter is deprecated and will be removed in a future release. Please use the `predicate` parameter instead.\n",
      "  chi = cenpy.products.ACS(year).from_place('Chicago, IL', variables= ['B01003_001', 'B19013_001E', 'B25077_001E',\n",
      "/home/andrew/anaconda3/envs/eats/lib/python3.10/site-packages/pyproj/crs/crs.py:131: FutureWarning: '+init=<authority>:<code>' syntax is deprecated. '<authority>:<code>' is the preferred initialization method. When making the change, be mindful of axis order changes: https://pyproj4.github.io/pyproj/stable/gotchas.html#axis-order-changes-in-proj-6\n",
      "  in_crs_string = _prepare_from_proj_string(in_crs_string)\n"
     ]
    },
    {
     "name": "stdout",
     "output_type": "stream",
     "text": [
      "Matched: Chicago, IL to Chicago city within layer Incorporated Places\n"
     ]
    },
    {
     "name": "stderr",
     "output_type": "stream",
     "text": [
      "/home/andrew/anaconda3/envs/eats/lib/python3.10/site-packages/pyproj/crs/crs.py:131: FutureWarning: '+init=<authority>:<code>' syntax is deprecated. '<authority>:<code>' is the preferred initialization method. When making the change, be mindful of axis order changes: https://pyproj4.github.io/pyproj/stable/gotchas.html#axis-order-changes-in-proj-6\n",
      "  in_crs_string = _prepare_from_proj_string(in_crs_string)\n",
      "/tmp/ipykernel_527413/734256529.py:4: FutureWarning: The `op` parameter is deprecated and will be removed in a future release. Please use the `predicate` parameter instead.\n",
      "  chi = cenpy.products.ACS(year).from_place('Chicago, IL', variables= ['B01003_001', 'B19013_001E', 'B25077_001E',\n"
     ]
    }
   ],
   "source": [
    "gdfs = []\n",
    "\n",
    "for year in range(2013,2020):\n",
    "    chi = cenpy.products.ACS(year).from_place('Chicago, IL', variables= ['B01003_001', 'B19013_001E', 'B25077_001E',\n",
    "                                                'B03002_012E','B02008_001E', 'B02011_001E', 'B02009_001E',\n",
    "                                                 'B17001_002E'], level='tract')\n",
    "    chi['year'] = year\n",
    "    gdfs.append(chi)\n",
    "\n",
    "chi_gdf = pd.concat(gdfs)\n",
    "acs_variables = {\n",
    "'B01003_001E' : 'total_pop',\n",
    "'B19013_001E' : 'median_household_income',\n",
    "'B25077_001E' : 'median_home_value',\n",
    "'B03002_012E' : 'n_hispanic',\n",
    "'B02008_001E' : 'n_white',\n",
    "'B02009_001E' : 'n_black',\n",
    "'B02011_001E' : 'n_asian',\n",
    "'B17001_002E' : 'n_poverty'}\n",
    "chi_gdf.rename(columns=acs_variables, inplace=True)\n",
    "chi_gdf.drop(['state', 'county'], axis=1, inplace=True)"
   ]
  },
  {
   "cell_type": "code",
   "execution_count": null,
   "id": "1c6f641b",
   "metadata": {},
   "outputs": [],
   "source": [
    "chi_gdf['p_poverty'] = chi_gdf.n_poverty/chi_gdf.total_pop\n",
    "chi_gdf['p_black'] = chi_gdf.n_black/chi_gdf.total_pop\n",
    "chi_gdf['p_white'] = chi_gdf.n_white/chi_gdf.total_pop\n",
    "chi_gdf['p_hispanic'] = chi_gdf.n_hispanic/chi_gdf.total_pop\n",
    "chi_gdf['p_asian'] = chi_gdf.n_asian/chi_gdf.total_pop"
   ]
  },
  {
   "cell_type": "code",
   "execution_count": null,
   "id": "6474d4ae",
   "metadata": {},
   "outputs": [],
   "source": [
    "def plot_time(df, column, cmap, scheme, k):\n",
    "    classifier = schemes[scheme](df[column].dropna().values, k=k)\n",
    "    f, axs = plt.subplots(ncols=len(df.year.unique()), figsize=(25,25))\n",
    "    for i, year in enumerate(df.year.unique()):\n",
    "        df[df.year == year].plot(column, cmap=cmap, scheme='user_defined',\n",
    "                                 #legend_kwds={'loc': 'lower center'},\n",
    "                                 classification_kwds={\"bins\": classifier.bins},\n",
    "                                 ax=axs[i])\n",
    "        axs[i].axis('off')\n",
    "        axs[i].set_title(year)\n",
    "\n",
    "    lines, labels = axs[-1].get_legend_handles_labels()\n",
    "    f.legend(lines, labels, loc = 'lower center')\n",
    "    return axs"
   ]
  },
  {
   "cell_type": "code",
   "execution_count": null,
   "id": "b395944c",
   "metadata": {
    "scrolled": true
   },
   "outputs": [],
   "source": [
    "plot_time(chi_gdf,'p_poverty', 'Greens', 'quantiles', k=5)"
   ]
  },
  {
   "cell_type": "code",
   "execution_count": null,
   "id": "623f8d33",
   "metadata": {},
   "outputs": [],
   "source": [
    "chi_gdf[chi_gdf.year == 2019].plot('p_black', figsize = (8,8), legend=True)"
   ]
  },
  {
   "cell_type": "code",
   "execution_count": null,
   "id": "72a88605",
   "metadata": {},
   "outputs": [],
   "source": [
    "chi_gdf.to_file(\"acs.geojson\", driver='GeoJSON')"
   ]
  }
 ],
 "metadata": {
  "kernelspec": {
   "display_name": "Python (eats)",
   "language": "python",
   "name": "eats"
  },
  "language_info": {
   "codemirror_mode": {
    "name": "ipython",
    "version": 3
   },
   "file_extension": ".py",
   "mimetype": "text/x-python",
   "name": "python",
   "nbconvert_exporter": "python",
   "pygments_lexer": "ipython3",
   "version": "3.10.2"
  }
 },
 "nbformat": 4,
 "nbformat_minor": 5
}

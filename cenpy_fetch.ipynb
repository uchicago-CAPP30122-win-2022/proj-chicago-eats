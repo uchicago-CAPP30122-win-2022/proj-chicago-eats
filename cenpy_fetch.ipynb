{
 "cells": [
  {
   "cell_type": "code",
   "execution_count": 23,
   "id": "0e4c0f60",
   "metadata": {},
   "outputs": [
    {
     "name": "stderr",
     "output_type": "stream",
     "text": [
      "/home/andrew/anaconda3/envs/eats/lib/python3.10/site-packages/pyproj/crs/crs.py:131: FutureWarning: '+init=<authority>:<code>' syntax is deprecated. '<authority>:<code>' is the preferred initialization method. When making the change, be mindful of axis order changes: https://pyproj4.github.io/pyproj/stable/gotchas.html#axis-order-changes-in-proj-6\n",
      "  in_crs_string = _prepare_from_proj_string(in_crs_string)\n"
     ]
    },
    {
     "name": "stdout",
     "output_type": "stream",
     "text": [
      "Matched: Chicago, IL to Chicago city within layer Incorporated Places\n"
     ]
    },
    {
     "name": "stderr",
     "output_type": "stream",
     "text": [
      "/home/andrew/anaconda3/envs/eats/lib/python3.10/site-packages/pyproj/crs/crs.py:131: FutureWarning: '+init=<authority>:<code>' syntax is deprecated. '<authority>:<code>' is the preferred initialization method. When making the change, be mindful of axis order changes: https://pyproj4.github.io/pyproj/stable/gotchas.html#axis-order-changes-in-proj-6\n",
      "  in_crs_string = _prepare_from_proj_string(in_crs_string)\n",
      "/tmp/ipykernel_447640/3625190328.py:3: FutureWarning: The `op` parameter is deprecated and will be removed in a future release. Please use the `predicate` parameter instead.\n",
      "  chi = acs.from_place('Chicago, IL', variables= ['B01003_001', 'B19013_001E', 'B25077_001E',\n"
     ]
    }
   ],
   "source": [
    "import cenpy\n",
    "acs = cenpy.products.ACS()\n",
    "chi = acs.from_place('Chicago, IL', variables= ['B01003_001', 'B19013_001E', 'B25077_001E',\n",
    "                                                'B03002_012E','B02008_001E', 'B03002_004E',\n",
    "                                                 'B17001_002E'])"
   ]
  },
  {
   "cell_type": "markdown",
   "id": "f2418ef8",
   "metadata": {},
   "source": [
    "B01003_001 - total population\n",
    "\n",
    "B19013_001E - median household income\n",
    "\n",
    "B25077_001E - median home value\n",
    "\n",
    "B03002_012E - hispanic people\n",
    "\n",
    "B02008_001E - white people\n",
    "\n",
    "B03002_004E - non-hispanic black\n",
    "\n",
    "B17001_002E - poverty\n"
   ]
  },
  {
   "cell_type": "code",
   "execution_count": 16,
   "id": "f46e43f0",
   "metadata": {
    "scrolled": true
   },
   "outputs": [],
   "source": [
    "var = acs.tables"
   ]
  },
  {
   "cell_type": "code",
   "execution_count": 22,
   "id": "5530badd",
   "metadata": {},
   "outputs": [
    {
     "data": {
      "text/html": [
       "<div>\n",
       "<style scoped>\n",
       "    .dataframe tbody tr th:only-of-type {\n",
       "        vertical-align: middle;\n",
       "    }\n",
       "\n",
       "    .dataframe tbody tr th {\n",
       "        vertical-align: top;\n",
       "    }\n",
       "\n",
       "    .dataframe thead th {\n",
       "        text-align: right;\n",
       "    }\n",
       "</style>\n",
       "<table border=\"1\" class=\"dataframe\">\n",
       "  <thead>\n",
       "    <tr style=\"text-align: right;\">\n",
       "      <th></th>\n",
       "      <th>description</th>\n",
       "      <th>columns</th>\n",
       "    </tr>\n",
       "    <tr>\n",
       "      <th>table_name</th>\n",
       "      <th></th>\n",
       "      <th></th>\n",
       "    </tr>\n",
       "  </thead>\n",
       "  <tbody>\n",
       "    <tr>\n",
       "      <th>B00001</th>\n",
       "      <td>UNWEIGHTED SAMPLE COUNT OF THE POPULATION</td>\n",
       "      <td>[B00001_001E]</td>\n",
       "    </tr>\n",
       "    <tr>\n",
       "      <th>B00002</th>\n",
       "      <td>UNWEIGHTED SAMPLE HOUSING UNITS</td>\n",
       "      <td>[B00002_001E]</td>\n",
       "    </tr>\n",
       "    <tr>\n",
       "      <th>B01001</th>\n",
       "      <td>SEX BY AGE</td>\n",
       "      <td>[B01001_001E, B01001_002E, B01001_003E, B01001...</td>\n",
       "    </tr>\n",
       "    <tr>\n",
       "      <th>B01002</th>\n",
       "      <td>MEDIAN AGE BY SEX</td>\n",
       "      <td>[B01002_001E, B01002_002E, B01002_003E]</td>\n",
       "    </tr>\n",
       "    <tr>\n",
       "      <th>B01003</th>\n",
       "      <td>TOTAL POPULATION</td>\n",
       "      <td>[B01003_001E]</td>\n",
       "    </tr>\n",
       "    <tr>\n",
       "      <th>B02001</th>\n",
       "      <td>RACE</td>\n",
       "      <td>[B02001_001E, B02001_002E, B02001_003E, B02001...</td>\n",
       "    </tr>\n",
       "    <tr>\n",
       "      <th>B02008</th>\n",
       "      <td>WHITE ALONE OR IN COMBINATION WITH ONE OR MORE...</td>\n",
       "      <td>[B02008_001E]</td>\n",
       "    </tr>\n",
       "    <tr>\n",
       "      <th>B02009</th>\n",
       "      <td>BLACK OR AFRICAN AMERICAN ALONE OR IN COMBINAT...</td>\n",
       "      <td>[B02009_001E]</td>\n",
       "    </tr>\n",
       "    <tr>\n",
       "      <th>B02010</th>\n",
       "      <td>AMERICAN INDIAN AND ALASKA NATIVE ALONE OR IN ...</td>\n",
       "      <td>[B02010_001E]</td>\n",
       "    </tr>\n",
       "    <tr>\n",
       "      <th>B02011</th>\n",
       "      <td>ASIAN ALONE OR IN COMBINATION WITH ONE OR MORE...</td>\n",
       "      <td>[B02011_001E]</td>\n",
       "    </tr>\n",
       "    <tr>\n",
       "      <th>B02012</th>\n",
       "      <td>NATIVE HAWAIIAN AND OTHER PACIFIC ISLANDER ALO...</td>\n",
       "      <td>[B02012_001E]</td>\n",
       "    </tr>\n",
       "    <tr>\n",
       "      <th>B02013</th>\n",
       "      <td>SOME OTHER RACE ALONE OR IN COMBINATION WITH O...</td>\n",
       "      <td>[B02013_001E]</td>\n",
       "    </tr>\n",
       "    <tr>\n",
       "      <th>B02014</th>\n",
       "      <td>AMERICAN INDIAN AND ALASKA NATIVE ALONE FOR SE...</td>\n",
       "      <td>[B02014_001E, B02014_002E, B02014_003E, B02014...</td>\n",
       "    </tr>\n",
       "    <tr>\n",
       "      <th>B02015</th>\n",
       "      <td>ASIAN ALONE BY SELECTED GROUPS</td>\n",
       "      <td>[B02015_001E, B02015_002E, B02015_003E, B02015...</td>\n",
       "    </tr>\n",
       "    <tr>\n",
       "      <th>B02016</th>\n",
       "      <td>NATIVE HAWAIIAN AND OTHER PACIFIC ISLANDER ALO...</td>\n",
       "      <td>[B02016_001E, B02016_002E, B02016_003E, B02016...</td>\n",
       "    </tr>\n",
       "    <tr>\n",
       "      <th>B02017</th>\n",
       "      <td>AMERICAN INDIAN AND ALASKA NATIVE (AIAN) ALONE...</td>\n",
       "      <td>[B02017_001E, B02017_002E, B02017_003E, B02017...</td>\n",
       "    </tr>\n",
       "    <tr>\n",
       "      <th>B02018</th>\n",
       "      <td>ASIAN ALONE OR IN ANY COMBINATION BY SELECTED ...</td>\n",
       "      <td>[B02018_001E, B02018_002E, B02018_003E, B02018...</td>\n",
       "    </tr>\n",
       "    <tr>\n",
       "      <th>B02019</th>\n",
       "      <td>NATIVE HAWAIIAN AND OTHER PACIFIC ISLANDER ALO...</td>\n",
       "      <td>[B02019_001E, B02019_002E, B02019_003E, B02019...</td>\n",
       "    </tr>\n",
       "    <tr>\n",
       "      <th>B03001</th>\n",
       "      <td>HISPANIC OR LATINO ORIGIN BY SPECIFIC ORIGIN</td>\n",
       "      <td>[B03001_001E, B03001_002E, B03001_003E, B03001...</td>\n",
       "    </tr>\n",
       "    <tr>\n",
       "      <th>B03002</th>\n",
       "      <td>HISPANIC OR LATINO ORIGIN BY RACE</td>\n",
       "      <td>[B03002_001E, B03002_002E, B03002_003E, B03002...</td>\n",
       "    </tr>\n",
       "  </tbody>\n",
       "</table>\n",
       "</div>"
      ],
      "text/plain": [
       "                                                  description  \\\n",
       "table_name                                                      \n",
       "B00001              UNWEIGHTED SAMPLE COUNT OF THE POPULATION   \n",
       "B00002                        UNWEIGHTED SAMPLE HOUSING UNITS   \n",
       "B01001                                             SEX BY AGE   \n",
       "B01002                                      MEDIAN AGE BY SEX   \n",
       "B01003                                       TOTAL POPULATION   \n",
       "B02001                                                   RACE   \n",
       "B02008      WHITE ALONE OR IN COMBINATION WITH ONE OR MORE...   \n",
       "B02009      BLACK OR AFRICAN AMERICAN ALONE OR IN COMBINAT...   \n",
       "B02010      AMERICAN INDIAN AND ALASKA NATIVE ALONE OR IN ...   \n",
       "B02011      ASIAN ALONE OR IN COMBINATION WITH ONE OR MORE...   \n",
       "B02012      NATIVE HAWAIIAN AND OTHER PACIFIC ISLANDER ALO...   \n",
       "B02013      SOME OTHER RACE ALONE OR IN COMBINATION WITH O...   \n",
       "B02014      AMERICAN INDIAN AND ALASKA NATIVE ALONE FOR SE...   \n",
       "B02015                         ASIAN ALONE BY SELECTED GROUPS   \n",
       "B02016      NATIVE HAWAIIAN AND OTHER PACIFIC ISLANDER ALO...   \n",
       "B02017      AMERICAN INDIAN AND ALASKA NATIVE (AIAN) ALONE...   \n",
       "B02018      ASIAN ALONE OR IN ANY COMBINATION BY SELECTED ...   \n",
       "B02019      NATIVE HAWAIIAN AND OTHER PACIFIC ISLANDER ALO...   \n",
       "B03001           HISPANIC OR LATINO ORIGIN BY SPECIFIC ORIGIN   \n",
       "B03002                      HISPANIC OR LATINO ORIGIN BY RACE   \n",
       "\n",
       "                                                      columns  \n",
       "table_name                                                     \n",
       "B00001                                          [B00001_001E]  \n",
       "B00002                                          [B00002_001E]  \n",
       "B01001      [B01001_001E, B01001_002E, B01001_003E, B01001...  \n",
       "B01002                [B01002_001E, B01002_002E, B01002_003E]  \n",
       "B01003                                          [B01003_001E]  \n",
       "B02001      [B02001_001E, B02001_002E, B02001_003E, B02001...  \n",
       "B02008                                          [B02008_001E]  \n",
       "B02009                                          [B02009_001E]  \n",
       "B02010                                          [B02010_001E]  \n",
       "B02011                                          [B02011_001E]  \n",
       "B02012                                          [B02012_001E]  \n",
       "B02013                                          [B02013_001E]  \n",
       "B02014      [B02014_001E, B02014_002E, B02014_003E, B02014...  \n",
       "B02015      [B02015_001E, B02015_002E, B02015_003E, B02015...  \n",
       "B02016      [B02016_001E, B02016_002E, B02016_003E, B02016...  \n",
       "B02017      [B02017_001E, B02017_002E, B02017_003E, B02017...  \n",
       "B02018      [B02018_001E, B02018_002E, B02018_003E, B02018...  \n",
       "B02019      [B02019_001E, B02019_002E, B02019_003E, B02019...  \n",
       "B03001      [B03001_001E, B03001_002E, B03001_003E, B03001...  \n",
       "B03002      [B03002_001E, B03002_002E, B03002_003E, B03002...  "
      ]
     },
     "execution_count": 22,
     "metadata": {},
     "output_type": "execute_result"
    }
   ],
   "source": [
    "var.loc[:'B03002_006E+B03002_007E']"
   ]
  },
  {
   "cell_type": "code",
   "execution_count": 31,
   "id": "23d7971f",
   "metadata": {},
   "outputs": [
    {
     "data": {
      "text/plain": [
       "<AxesSubplot:>"
      ]
     },
     "execution_count": 31,
     "metadata": {},
     "output_type": "execute_result"
    },
    {
     "data": {
      "image/png": "[encoded data removed]",
      "text/plain": [
       "<Figure size 432x288 with 2 Axes>"
      ]
     },
     "metadata": {
      "needs_background": "light"
     },
     "output_type": "display_data"
    }
   ],
   "source": [
    "chi.plot('B25077_001E', legend=True)"
   ]
  },
  {
   "cell_type": "code",
   "execution_count": null,
   "id": "3eca000e",
   "metadata": {},
   "outputs": [],
   "source": []
  }
 ],
 "metadata": {
  "kernelspec": {
   "display_name": "Python (eats)",
   "language": "python",
   "name": "eats"
  },
  "language_info": {
   "codemirror_mode": {
    "name": "ipython",
    "version": 3
   },
   "file_extension": ".py",
   "mimetype": "text/x-python",
   "name": "python",
   "nbconvert_exporter": "python",
   "pygments_lexer": "ipython3",
   "version": "3.10.2"
  }
 },
 "nbformat": 4,
 "nbformat_minor": 5
}
